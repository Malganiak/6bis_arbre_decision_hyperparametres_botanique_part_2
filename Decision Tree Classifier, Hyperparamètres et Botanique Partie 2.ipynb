{
 "cells": [
  {
   "cell_type": "code",
   "execution_count": 1,
   "id": "23fbf444-4075-4215-8bb1-8521772492b7",
   "metadata": {},
   "outputs": [],
   "source": [
    "# Import des librairies\n",
    "import numpy as np \n",
    "import pandas as pd \n",
    "import seaborn as sns\n",
    "from matplotlib import pyplot as plt\n",
    "from scipy import stats\n",
    "from sklearn.tree import DecisionTreeClassifier\n",
    "import sklearn.metrics \n",
    "from sklearn.metrics import ConfusionMatrixDisplay\n",
    "import sklearn.metrics as metrics\n",
    "import math\n",
    "from sklearn.datasets import load_iris"
   ]
  },
  {
   "cell_type": "code",
   "execution_count": 2,
   "id": "a4323824-e516-46c4-b2b8-ba41db4b0b8d",
   "metadata": {},
   "outputs": [],
   "source": [
    "# Chargement du dataset\n",
    "data, target = load_iris(return_X_y=True, as_frame=True)"
   ]
  },
  {
   "cell_type": "code",
   "execution_count": 3,
   "id": "ad2e20d7-6d9b-4288-92bc-ff39ff6ed27b",
   "metadata": {},
   "outputs": [],
   "source": [
    "# Récupération de la cible dans le dataframe \"data\"\n",
    "data['target'] = target"
   ]
  },
  {
   "cell_type": "code",
   "execution_count": 4,
   "id": "7f22fc10-1841-4ba5-91e7-1db41712d5f8",
   "metadata": {},
   "outputs": [],
   "source": [
    "# Shuffle pour désorganiser l'ordre des cibles\n",
    "data = data.sample(frac=1).reset_index()"
   ]
  },
  {
   "cell_type": "code",
   "execution_count": 5,
   "id": "f0ee6b02-af7b-4036-b524-2ef1016aa0d2",
   "metadata": {},
   "outputs": [],
   "source": [
    "# Définition de la cible et des features\n",
    "features = ['petal length (cm)', 'petal width (cm)']\n",
    "y = data.target\n",
    "X = data[features]"
   ]
  },
  {
   "cell_type": "code",
   "execution_count": 6,
   "id": "6fc2e8bf-87a1-453d-a81e-7fc127149145",
   "metadata": {},
   "outputs": [],
   "source": [
    "# Définition de la taille des jeux\n",
    "test_size = 0.2\n",
    "valid_size = 0.2\n",
    "train_size = 0.6\n",
    "idx_max = X.index.max()"
   ]
  },
  {
   "cell_type": "code",
   "execution_count": 7,
   "id": "50c35aa5-4b0e-471c-a982-c1b4d8518802",
   "metadata": {},
   "outputs": [],
   "source": [
    "# Conversion en array numpy\n",
    "X_numpy = X.to_numpy()\n",
    "y_numpy = y.to_numpy()"
   ]
  },
  {
   "cell_type": "code",
   "execution_count": 8,
   "id": "20223ff6-fc8c-4aca-86c1-7a8f04ae901e",
   "metadata": {},
   "outputs": [],
   "source": [
    "# Split pour X, méthode déterministe, pas de shuffle ou autre\n",
    "x_sets = np.split(X_numpy, [math.floor(train_size * idx_max),\n",
    "                           math.floor(train_size * idx_max + valid_size * idx_max),\n",
    "                           idx_max])\n",
    "\n",
    "X_train = x_sets[0]\n",
    "X_valid = x_sets[1]\n",
    "X_test = x_sets[2]"
   ]
  },
  {
   "cell_type": "code",
   "execution_count": 9,
   "id": "12f502ca-a80b-4490-97ba-9c7adc1ad107",
   "metadata": {},
   "outputs": [],
   "source": [
    "# De même pour y\n",
    "y_sets = np.split(y_numpy, [math.floor(train_size * idx_max),\n",
    "                           math.floor(train_size * idx_max + valid_size * idx_max),\n",
    "                           idx_max])\n",
    "\n",
    "y_train = y_sets[0]\n",
    "y_valid = y_sets[1]\n",
    "y_test = y_sets[2]"
   ]
  },
  {
   "cell_type": "code",
   "execution_count": 10,
   "id": "604539fd-c8bc-400a-b2be-385b2ceb2cc6",
   "metadata": {},
   "outputs": [],
   "source": [
    "# Prédictions sur le jeu de validation\n",
    "max_depths = [i for i in range(3, 11)]\n",
    "scores_valid = {}\n",
    "scores_train = {}"
   ]
  },
  {
   "cell_type": "code",
   "execution_count": 11,
   "id": "f2e49e70-a107-4bbb-b223-d0af7228451d",
   "metadata": {},
   "outputs": [],
   "source": [
    "for max_depth in max_depths:\n",
    "    # Définition du modèle\n",
    "    model = DecisionTreeClassifier(max_depth=max_depth, random_state=42)\n",
    "\n",
    "    # Fit sur l'ensemble d'entraînement\n",
    "    model.fit(X_train, y_train)\n",
    "\n",
    "    # Prédictions sur l'ensemble d'entraînement\n",
    "    pred_train = model.predict(X_train)\n",
    "    scoring_train = metrics.accuracy_score(y_train, pred_train)\n",
    "    scores_train[str(max_depth)] = scoring_train\n",
    "\n",
    "    # Prédictions sur l'ensemble de validation\n",
    "    pred_valid = model.predict(X_valid)\n",
    "    scoring_valid = metrics.accuracy_score(y_valid, pred_valid)\n",
    "    scores_valid[str(max_depth)] = scoring_valid"
   ]
  },
  {
   "cell_type": "code",
   "execution_count": 12,
   "id": "f358a7db-26d2-477d-a542-b439c6f414ed",
   "metadata": {},
   "outputs": [
    {
     "name": "stdout",
     "output_type": "stream",
     "text": [
      "Scores sur le jeu d'entraînement: {'3': 0.9775280898876404, '4': 0.9887640449438202, '5': 1.0, '6': 1.0, '7': 1.0, '8': 1.0, '9': 1.0, '10': 1.0}\n",
      "Scores sur le jeu de validation: {'3': 0.9333333333333333, '4': 0.9333333333333333, '5': 0.9333333333333333, '6': 0.9333333333333333, '7': 0.9333333333333333, '8': 0.9333333333333333, '9': 0.9333333333333333, '10': 0.9333333333333333}\n"
     ]
    }
   ],
   "source": [
    "print(\"Scores sur le jeu d'entraînement:\", scores_train)\n",
    "print(\"Scores sur le jeu de validation:\", scores_valid)"
   ]
  },
  {
   "cell_type": "code",
   "execution_count": 13,
   "id": "211a304b-6c0d-4fc4-a4ab-2876bc7e9bab",
   "metadata": {},
   "outputs": [
    {
     "name": "stdout",
     "output_type": "stream",
     "text": [
      "0.9333333333333333\n"
     ]
    }
   ],
   "source": [
    "# Prédictions sur le jeu de test\n",
    "max_depth = 3\n",
    "pred = model.predict(X_test)\n",
    "scoring = metrics.accuracy_score(y_test, pred)\n",
    "print(scoring)"
   ]
  },
  {
   "cell_type": "code",
   "execution_count": 14,
   "id": "209bcd62-a212-49ac-8fd9-a50d36e51500",
   "metadata": {},
   "outputs": [],
   "source": [
    "# Fonction de découpage en ensembles pour la validation croisée\n",
    "def k_split(X_trainvalid, y_trainvalid, k, loo, train_size=0.8):\n",
    "    # Récupère l'indice maximum de X_trainvalid\n",
    "    idx_max = X_trainvalid.index.max()\n",
    "\n",
    "    # Définit les points de séparation pour les ensembles\n",
    "    if loo:\n",
    "        bouts = [i for i in range(0, X_trainvalid.index.max(), 1)]\n",
    "    else:\n",
    "        bouts = [math.floor(i) for i in np.linspace(0, idx_max + 1, k + 1)]\n",
    "\n",
    "    # Initialise une liste pour stocker les ensembles découpés\n",
    "    sets = []\n",
    "\n",
    "    # Itère sur le nombre de plis (k)\n",
    "    i = 0\n",
    "    while i < k:\n",
    "        # Définit les indices de début et de fin pour le pli actuel\n",
    "        i_bot = bouts[i]\n",
    "        i_sup = bouts[i + 1]\n",
    "        indexes = np.arange(i_bot, i_sup, 1)\n",
    "\n",
    "        # Découpe X_trainvalid et y_trainvalid en ensembles de validation et d'entraînement\n",
    "        X_valid = X_trainvalid.loc[X_trainvalid.index.isin(indexes)].to_numpy()\n",
    "        y_valid = y_trainvalid.loc[y_trainvalid.index.isin(indexes)].to_numpy()\n",
    "\n",
    "        y_train = y_trainvalid.loc[~y_trainvalid.index.isin(indexes)].to_numpy()\n",
    "        X_train = X_trainvalid.loc[~X_trainvalid.index.isin(indexes)].to_numpy()\n",
    "\n",
    "        # Ajoute les ensembles découpés à la liste\n",
    "        sets.append([X_train, X_valid, y_train, y_valid])\n",
    "        i += 1\n",
    "\n",
    "    # Retourne la liste des ensembles découpés\n",
    "    return sets"
   ]
  },
  {
   "cell_type": "code",
   "execution_count": 15,
   "id": "6b139ee0-8010-4567-b3c0-074d3598171f",
   "metadata": {},
   "outputs": [],
   "source": [
    "# Fonction de validation croisée k-fold\n",
    "def kfold(X, y, model, k=5, test_size=0.2, loo=False):\n",
    "    # Initialise un dictionnaire pour stocker les scores\n",
    "    scores = {}\n",
    "\n",
    "    # Sépare les données en ensemble de test et ensemble d'entraînement + validation\n",
    "    X_test_trainvalid = np.split(X, [math.floor(X.index.shape[0] * (1 - test_size)), X.index.shape[0]])\n",
    "    y_test_trainvalid = np.split(y, [math.floor(y.index.shape[0] * (1 - test_size)), y.index.shape[0]])\n",
    "\n",
    "    # Récupère les données du jeu de test\n",
    "    X_test = X_test_trainvalid[1].to_numpy()\n",
    "    y_test = y_test_trainvalid[1].to_numpy()\n",
    "\n",
    "    # Récupère les données du jeu d'entraînement + validation\n",
    "    X_trainvalid_full = X_test_trainvalid[0]\n",
    "    y_trainvalid_full = y_test_trainvalid[0]\n",
    "\n",
    "    # Utilise la fonction k_split pour découper les données en k ensembles\n",
    "    sets = k_split(X_trainvalid_full, y_trainvalid_full, k, loo)\n",
    "\n",
    "    # Initialise des listes pour stocker les scores d'entraînement, de validation et de test\n",
    "    score_train = []\n",
    "    score_valid = []\n",
    "    score_test = []\n",
    "\n",
    "    # Itère sur chaque ensemble de la validation croisée k-fold\n",
    "    for X_train, X_valid, y_train, y_valid in sets:\n",
    "        # Entraîne le modèle sur l'ensemble d'entraînement\n",
    "        model.fit(X_train, y_train)\n",
    "\n",
    "        # Prédiction sur l'ensemble d'entraînement\n",
    "        pred_train = model.predict(X_train)\n",
    "\n",
    "        # Prédiction sur l'ensemble de validation\n",
    "        pred_valid = model.predict(X_valid)\n",
    "\n",
    "        # Concatène les ensembles d'entraînement et de validation\n",
    "        X_trainvalid = np.concatenate([X_train, X_valid])\n",
    "        y_trainvalid = np.concatenate([y_train, y_valid])\n",
    "\n",
    "        # Ré-entraîne le modèle sur l'ensemble d'entraînement + validation\n",
    "        model.fit(X_trainvalid, y_trainvalid)\n",
    "\n",
    "        # Prédiction sur l'ensemble de test\n",
    "        pred_test = model.predict(X_test)\n",
    "\n",
    "        # Calcule et stocke les scores d'accuracy pour chaque ensemble\n",
    "        score_train.append(metrics.accuracy_score(y_train, pred_train))\n",
    "        score_valid.append(metrics.accuracy_score(y_valid, pred_valid))\n",
    "        score_test.append(metrics.accuracy_score(y_test, pred_test))\n",
    "\n",
    "    # Calcule les moyennes des scores d'accuracy pour chaque ensemble\n",
    "    scores['train'] = np.array(score_train).mean()\n",
    "    scores['valid'] = np.array(score_valid).mean()\n",
    "    scores['test'] = np.array(score_test).mean()\n",
    "\n",
    "    # Retourne le dictionnaire des scores\n",
    "    return scores"
   ]
  },
  {
   "cell_type": "code",
   "execution_count": 16,
   "id": "26bdfcca-a944-4a8e-8946-065a425762ee",
   "metadata": {},
   "outputs": [
    {
     "name": "stdout",
     "output_type": "stream",
     "text": [
      "{'3': {'train': 0.9777777777777777, 'valid': 0.95, 'test': 0.9666666666666667}, '4': {'train': 0.9805555555555555, 'valid': 0.95, 'test': 0.9666666666666667}, '5': {'train': 0.9944444444444445, 'valid': 0.95, 'test': 0.9666666666666667}, '6': {'train': 0.9944444444444445, 'valid': 0.95, 'test': 0.9666666666666667}, '7': {'train': 0.9944444444444445, 'valid': 0.95, 'test': 0.9666666666666667}, '8': {'train': 0.9944444444444445, 'valid': 0.95, 'test': 0.9666666666666667}, '9': {'train': 0.9944444444444445, 'valid': 0.95, 'test': 0.9666666666666667}, '10': {'train': 0.9944444444444445, 'valid': 0.95, 'test': 0.9666666666666667}}\n"
     ]
    },
    {
     "name": "stderr",
     "output_type": "stream",
     "text": [
      "C:\\Users\\Leo\\anaconda3\\envs\\myenv\\Lib\\site-packages\\numpy\\core\\fromnumeric.py:59: FutureWarning: 'DataFrame.swapaxes' is deprecated and will be removed in a future version. Please use 'DataFrame.transpose' instead.\n",
      "  return bound(*args, **kwds)\n",
      "C:\\Users\\Leo\\anaconda3\\envs\\myenv\\Lib\\site-packages\\numpy\\core\\fromnumeric.py:59: FutureWarning: 'Series.swapaxes' is deprecated and will be removed in a future version. Please use 'Series.transpose' instead.\n",
      "  return bound(*args, **kwds)\n",
      "C:\\Users\\Leo\\anaconda3\\envs\\myenv\\Lib\\site-packages\\numpy\\core\\fromnumeric.py:59: FutureWarning: 'DataFrame.swapaxes' is deprecated and will be removed in a future version. Please use 'DataFrame.transpose' instead.\n",
      "  return bound(*args, **kwds)\n",
      "C:\\Users\\Leo\\anaconda3\\envs\\myenv\\Lib\\site-packages\\numpy\\core\\fromnumeric.py:59: FutureWarning: 'Series.swapaxes' is deprecated and will be removed in a future version. Please use 'Series.transpose' instead.\n",
      "  return bound(*args, **kwds)\n",
      "C:\\Users\\Leo\\anaconda3\\envs\\myenv\\Lib\\site-packages\\numpy\\core\\fromnumeric.py:59: FutureWarning: 'DataFrame.swapaxes' is deprecated and will be removed in a future version. Please use 'DataFrame.transpose' instead.\n",
      "  return bound(*args, **kwds)\n",
      "C:\\Users\\Leo\\anaconda3\\envs\\myenv\\Lib\\site-packages\\numpy\\core\\fromnumeric.py:59: FutureWarning: 'Series.swapaxes' is deprecated and will be removed in a future version. Please use 'Series.transpose' instead.\n",
      "  return bound(*args, **kwds)\n",
      "C:\\Users\\Leo\\anaconda3\\envs\\myenv\\Lib\\site-packages\\numpy\\core\\fromnumeric.py:59: FutureWarning: 'DataFrame.swapaxes' is deprecated and will be removed in a future version. Please use 'DataFrame.transpose' instead.\n",
      "  return bound(*args, **kwds)\n",
      "C:\\Users\\Leo\\anaconda3\\envs\\myenv\\Lib\\site-packages\\numpy\\core\\fromnumeric.py:59: FutureWarning: 'Series.swapaxes' is deprecated and will be removed in a future version. Please use 'Series.transpose' instead.\n",
      "  return bound(*args, **kwds)\n",
      "C:\\Users\\Leo\\anaconda3\\envs\\myenv\\Lib\\site-packages\\numpy\\core\\fromnumeric.py:59: FutureWarning: 'DataFrame.swapaxes' is deprecated and will be removed in a future version. Please use 'DataFrame.transpose' instead.\n",
      "  return bound(*args, **kwds)\n",
      "C:\\Users\\Leo\\anaconda3\\envs\\myenv\\Lib\\site-packages\\numpy\\core\\fromnumeric.py:59: FutureWarning: 'Series.swapaxes' is deprecated and will be removed in a future version. Please use 'Series.transpose' instead.\n",
      "  return bound(*args, **kwds)\n",
      "C:\\Users\\Leo\\anaconda3\\envs\\myenv\\Lib\\site-packages\\numpy\\core\\fromnumeric.py:59: FutureWarning: 'DataFrame.swapaxes' is deprecated and will be removed in a future version. Please use 'DataFrame.transpose' instead.\n",
      "  return bound(*args, **kwds)\n",
      "C:\\Users\\Leo\\anaconda3\\envs\\myenv\\Lib\\site-packages\\numpy\\core\\fromnumeric.py:59: FutureWarning: 'Series.swapaxes' is deprecated and will be removed in a future version. Please use 'Series.transpose' instead.\n",
      "  return bound(*args, **kwds)\n",
      "C:\\Users\\Leo\\anaconda3\\envs\\myenv\\Lib\\site-packages\\numpy\\core\\fromnumeric.py:59: FutureWarning: 'DataFrame.swapaxes' is deprecated and will be removed in a future version. Please use 'DataFrame.transpose' instead.\n",
      "  return bound(*args, **kwds)\n",
      "C:\\Users\\Leo\\anaconda3\\envs\\myenv\\Lib\\site-packages\\numpy\\core\\fromnumeric.py:59: FutureWarning: 'Series.swapaxes' is deprecated and will be removed in a future version. Please use 'Series.transpose' instead.\n",
      "  return bound(*args, **kwds)\n",
      "C:\\Users\\Leo\\anaconda3\\envs\\myenv\\Lib\\site-packages\\numpy\\core\\fromnumeric.py:59: FutureWarning: 'DataFrame.swapaxes' is deprecated and will be removed in a future version. Please use 'DataFrame.transpose' instead.\n",
      "  return bound(*args, **kwds)\n",
      "C:\\Users\\Leo\\anaconda3\\envs\\myenv\\Lib\\site-packages\\numpy\\core\\fromnumeric.py:59: FutureWarning: 'Series.swapaxes' is deprecated and will be removed in a future version. Please use 'Series.transpose' instead.\n",
      "  return bound(*args, **kwds)\n"
     ]
    }
   ],
   "source": [
    "# Liste des valeurs de profondeur maximale à tester\n",
    "max_depths = [i for i in range(3, 11)]\n",
    "\n",
    "# Nombre de plis pour la validation croisée k-fold\n",
    "k = 4\n",
    "\n",
    "# Dictionnaire pour stocker les scores de chaque profondeur maximale\n",
    "scores = {}\n",
    "\n",
    "# Itère sur chaque profondeur maximale à tester\n",
    "for max_depth in max_depths:\n",
    "    # Crée un modèle DecisionTreeClassifier avec la profondeur maximale spécifiée\n",
    "    model = DecisionTreeClassifier(max_depth=max_depth, random_state=42)\n",
    "\n",
    "    # Applique la fonction kfold pour effectuer la validation croisée\n",
    "    # et récupère les scores d'accuracy pour chaque ensemble (train, valid, test)\n",
    "    scoring = kfold(X, y, model, k)\n",
    "\n",
    "    # Stocke les scores dans le dictionnaire avec la profondeur maximale comme clé\n",
    "    scores[str(max_depth)] = scoring\n",
    "\n",
    "# Affiche les scores pour chaque profondeur maximale\n",
    "print(scores)"
   ]
  },
  {
   "cell_type": "code",
   "execution_count": 17,
   "id": "4c109237-5a9b-49c5-913a-de1c47ed3a7b",
   "metadata": {},
   "outputs": [
    {
     "name": "stderr",
     "output_type": "stream",
     "text": [
      "C:\\Users\\Leo\\anaconda3\\envs\\myenv\\Lib\\site-packages\\numpy\\core\\fromnumeric.py:59: FutureWarning: 'DataFrame.swapaxes' is deprecated and will be removed in a future version. Please use 'DataFrame.transpose' instead.\n",
      "  return bound(*args, **kwds)\n",
      "C:\\Users\\Leo\\anaconda3\\envs\\myenv\\Lib\\site-packages\\numpy\\core\\fromnumeric.py:59: FutureWarning: 'Series.swapaxes' is deprecated and will be removed in a future version. Please use 'Series.transpose' instead.\n",
      "  return bound(*args, **kwds)\n",
      "C:\\Users\\Leo\\anaconda3\\envs\\myenv\\Lib\\site-packages\\numpy\\core\\fromnumeric.py:59: FutureWarning: 'DataFrame.swapaxes' is deprecated and will be removed in a future version. Please use 'DataFrame.transpose' instead.\n",
      "  return bound(*args, **kwds)\n",
      "C:\\Users\\Leo\\anaconda3\\envs\\myenv\\Lib\\site-packages\\numpy\\core\\fromnumeric.py:59: FutureWarning: 'Series.swapaxes' is deprecated and will be removed in a future version. Please use 'Series.transpose' instead.\n",
      "  return bound(*args, **kwds)\n",
      "C:\\Users\\Leo\\anaconda3\\envs\\myenv\\Lib\\site-packages\\numpy\\core\\fromnumeric.py:59: FutureWarning: 'DataFrame.swapaxes' is deprecated and will be removed in a future version. Please use 'DataFrame.transpose' instead.\n",
      "  return bound(*args, **kwds)\n",
      "C:\\Users\\Leo\\anaconda3\\envs\\myenv\\Lib\\site-packages\\numpy\\core\\fromnumeric.py:59: FutureWarning: 'Series.swapaxes' is deprecated and will be removed in a future version. Please use 'Series.transpose' instead.\n",
      "  return bound(*args, **kwds)\n",
      "C:\\Users\\Leo\\anaconda3\\envs\\myenv\\Lib\\site-packages\\numpy\\core\\fromnumeric.py:59: FutureWarning: 'DataFrame.swapaxes' is deprecated and will be removed in a future version. Please use 'DataFrame.transpose' instead.\n",
      "  return bound(*args, **kwds)\n",
      "C:\\Users\\Leo\\anaconda3\\envs\\myenv\\Lib\\site-packages\\numpy\\core\\fromnumeric.py:59: FutureWarning: 'Series.swapaxes' is deprecated and will be removed in a future version. Please use 'Series.transpose' instead.\n",
      "  return bound(*args, **kwds)\n",
      "C:\\Users\\Leo\\anaconda3\\envs\\myenv\\Lib\\site-packages\\numpy\\core\\fromnumeric.py:59: FutureWarning: 'DataFrame.swapaxes' is deprecated and will be removed in a future version. Please use 'DataFrame.transpose' instead.\n",
      "  return bound(*args, **kwds)\n",
      "C:\\Users\\Leo\\anaconda3\\envs\\myenv\\Lib\\site-packages\\numpy\\core\\fromnumeric.py:59: FutureWarning: 'Series.swapaxes' is deprecated and will be removed in a future version. Please use 'Series.transpose' instead.\n",
      "  return bound(*args, **kwds)\n"
     ]
    },
    {
     "name": "stdout",
     "output_type": "stream",
     "text": [
      "{'3': {'train': 0.9747899159663864, 'valid': 1.0, 'test': 0.9666666666666666}, '4': {'train': 0.9747899159663864, 'valid': 1.0, 'test': 0.9666666666666666}, '5': {'train': 0.9915966386554622, 'valid': 1.0, 'test': 0.9666666666666666}, '6': {'train': 0.9915966386554622, 'valid': 1.0, 'test': 0.9666666666666666}, '7': {'train': 0.9915966386554622, 'valid': 1.0, 'test': 0.9666666666666666}, '8': {'train': 0.9915966386554622, 'valid': 1.0, 'test': 0.9666666666666666}, '9': {'train': 0.9915966386554622, 'valid': 1.0, 'test': 0.9666666666666666}, '10': {'train': 0.9915966386554622, 'valid': 1.0, 'test': 0.9666666666666666}}\n"
     ]
    },
    {
     "name": "stderr",
     "output_type": "stream",
     "text": [
      "C:\\Users\\Leo\\anaconda3\\envs\\myenv\\Lib\\site-packages\\numpy\\core\\fromnumeric.py:59: FutureWarning: 'DataFrame.swapaxes' is deprecated and will be removed in a future version. Please use 'DataFrame.transpose' instead.\n",
      "  return bound(*args, **kwds)\n",
      "C:\\Users\\Leo\\anaconda3\\envs\\myenv\\Lib\\site-packages\\numpy\\core\\fromnumeric.py:59: FutureWarning: 'Series.swapaxes' is deprecated and will be removed in a future version. Please use 'Series.transpose' instead.\n",
      "  return bound(*args, **kwds)\n",
      "C:\\Users\\Leo\\anaconda3\\envs\\myenv\\Lib\\site-packages\\numpy\\core\\fromnumeric.py:59: FutureWarning: 'DataFrame.swapaxes' is deprecated and will be removed in a future version. Please use 'DataFrame.transpose' instead.\n",
      "  return bound(*args, **kwds)\n",
      "C:\\Users\\Leo\\anaconda3\\envs\\myenv\\Lib\\site-packages\\numpy\\core\\fromnumeric.py:59: FutureWarning: 'Series.swapaxes' is deprecated and will be removed in a future version. Please use 'Series.transpose' instead.\n",
      "  return bound(*args, **kwds)\n",
      "C:\\Users\\Leo\\anaconda3\\envs\\myenv\\Lib\\site-packages\\numpy\\core\\fromnumeric.py:59: FutureWarning: 'DataFrame.swapaxes' is deprecated and will be removed in a future version. Please use 'DataFrame.transpose' instead.\n",
      "  return bound(*args, **kwds)\n",
      "C:\\Users\\Leo\\anaconda3\\envs\\myenv\\Lib\\site-packages\\numpy\\core\\fromnumeric.py:59: FutureWarning: 'Series.swapaxes' is deprecated and will be removed in a future version. Please use 'Series.transpose' instead.\n",
      "  return bound(*args, **kwds)\n"
     ]
    }
   ],
   "source": [
    "# Liste des valeurs de profondeur maximale à tester\n",
    "max_depths = [i for i in range(3, 11)]\n",
    "\n",
    "# Dictionnaire pour stocker les scores de chaque profondeur maximale\n",
    "scores = {}\n",
    "\n",
    "# Itère sur chaque profondeur maximale à tester\n",
    "for max_depth in max_depths:\n",
    "    # Crée un modèle DecisionTreeClassifier avec la profondeur maximale spécifiée\n",
    "    model = DecisionTreeClassifier(max_depth=max_depth, random_state=42)\n",
    "\n",
    "    # Applique la fonction kfold pour effectuer la validation croisée Leave-One-Out (loo)\n",
    "    # et récupère les scores d'accuracy pour chaque ensemble (train, valid, test)\n",
    "    scoring = kfold(X, y, model, loo=True)\n",
    "\n",
    "    # Stocke les scores dans le dictionnaire avec la profondeur maximale comme clé\n",
    "    scores[str(max_depth)] = scoring\n",
    "\n",
    "# Affiche les scores pour chaque profondeur maximale\n",
    "print(scores)"
   ]
  },
  {
   "cell_type": "code",
   "execution_count": 18,
   "id": "64badcba-38d4-4272-bf72-dd59ffe8b6dd",
   "metadata": {},
   "outputs": [
    {
     "name": "stdout",
     "output_type": "stream",
     "text": [
      "1.0\n"
     ]
    }
   ],
   "source": [
    "# Importe les modules nécessaires\n",
    "from sklearn.model_selection import GridSearchCV\n",
    "from sklearn.model_selection import train_test_split\n",
    "\n",
    "# Divise les données en ensembles d'entraînement et de test\n",
    "X_train, X_test, y_train, y_test = train_test_split(X, y, test_size=0.2, stratify=y)\n",
    "\n",
    "# Définit la grille de recherche des hyperparamètres\n",
    "params = {'max_depth': [i for i in range(3, 11)]}\n",
    "\n",
    "# Crée un modèle DecisionTreeClassifier\n",
    "decision_tree = DecisionTreeClassifier()\n",
    "\n",
    "# Initialise un objet GridSearchCV avec le modèle, la grille de paramètres, la mesure de performance ('accuracy') et le nombre de plis pour la validation croisée (cv=5)\n",
    "clf = GridSearchCV(decision_tree, param_grid=params, scoring='accuracy', cv=5)\n",
    "\n",
    "# Effectue la recherche sur la grille en ajustant le modèle aux données d'entraînement\n",
    "clf.fit(X_train, y_train)\n",
    "\n",
    "# Prédit les étiquettes pour l'ensemble de test avec le meilleur modèle trouvé par la recherche sur la grille\n",
    "preds = clf.predict(X_test)\n",
    "\n",
    "# Calcule et affiche le score d'accuracy pour les prédictions sur l'ensemble de test\n",
    "scoring = metrics.accuracy_score(y_test, preds)\n",
    "print(scoring)"
   ]
  }
 ],
 "metadata": {
  "kernelspec": {
   "display_name": "Python 3 (ipykernel)",
   "language": "python",
   "name": "python3"
  },
  "language_info": {
   "codemirror_mode": {
    "name": "ipython",
    "version": 3
   },
   "file_extension": ".py",
   "mimetype": "text/x-python",
   "name": "python",
   "nbconvert_exporter": "python",
   "pygments_lexer": "ipython3",
   "version": "3.11.3"
  }
 },
 "nbformat": 4,
 "nbformat_minor": 5
}
